{
 "cells": [
  {
   "cell_type": "markdown",
   "id": "249cb701",
   "metadata": {},
   "source": [
    "# MinREACT"
   ]
  },
  {
   "cell_type": "code",
   "execution_count": 1,
   "id": "1dc4cd51",
   "metadata": {},
   "outputs": [],
   "source": [
    "from cobra.io.web import load_model"
   ]
  },
  {
   "cell_type": "code",
   "execution_count": 5,
   "id": "24f3957e",
   "metadata": {},
   "outputs": [
    {
     "data": {
      "application/vnd.jupyter.widget-view+json": {
       "model_id": "42324c08865a40c5bb36c403cea5656f",
       "version_major": 2,
       "version_minor": 0
      },
      "text/plain": [
       "Output()"
      ]
     },
     "metadata": {},
     "output_type": "display_data"
    },
    {
     "data": {
      "text/html": [
       "<pre style=\"white-space:pre;overflow-x:auto;line-height:normal;font-family:Menlo,'DejaVu Sans Mono',consolas,'Courier New',monospace\"></pre>\n"
      ],
      "text/plain": []
     },
     "metadata": {},
     "output_type": "display_data"
    },
    {
     "data": {
      "text/html": [
       "<pre style=\"white-space:pre;overflow-x:auto;line-height:normal;font-family:Menlo,'DejaVu Sans Mono',consolas,'Courier New',monospace\">\n",
       "</pre>\n"
      ],
      "text/plain": [
       "\n"
      ]
     },
     "metadata": {},
     "output_type": "display_data"
    }
   ],
   "source": [
    "model = load_model(\"e_coli_core\")"
   ]
  },
  {
   "cell_type": "code",
   "execution_count": 6,
   "id": "c4cc0c0e",
   "metadata": {},
   "outputs": [],
   "source": [
    "from gempy.model import minimize_model"
   ]
  },
  {
   "cell_type": "code",
   "execution_count": 7,
   "id": "8e88c4b0",
   "metadata": {},
   "outputs": [
    {
     "name": "stderr",
     "output_type": "stream",
     "text": [
      "/home/helikarlab/.venv/lib/python3.10/site-packages/cobra/core/model.py:737: UserWarning: EX_fru_e: fru_e -->  not in e_coli_core\n",
      "  warn(\"%s not in %s\" % (reaction, self))\n",
      "/home/helikarlab/.venv/lib/python3.10/site-packages/cobra/core/model.py:737: UserWarning: EX_fum_e: fum_e -->  not in e_coli_core\n",
      "  warn(\"%s not in %s\" % (reaction, self))\n",
      "/home/helikarlab/.venv/lib/python3.10/site-packages/cobra/core/model.py:737: UserWarning: EX_gln__L_e: gln__L_e -->  not in e_coli_core\n",
      "  warn(\"%s not in %s\" % (reaction, self))\n",
      "/home/helikarlab/.venv/lib/python3.10/site-packages/cobra/core/model.py:737: UserWarning: EX_mal__L_e: mal__L_e -->  not in e_coli_core\n",
      "  warn(\"%s not in %s\" % (reaction, self))\n",
      "/home/helikarlab/.venv/lib/python3.10/site-packages/cobra/core/model.py:737: UserWarning: FRUpts2: fru_e + pep_c --> f6p_c + pyr_c not in e_coli_core\n",
      "  warn(\"%s not in %s\" % (reaction, self))\n",
      "/home/helikarlab/.venv/lib/python3.10/site-packages/cobra/core/model.py:737: UserWarning: FUMt2_2: fum_e + 2.0 h_e --> fum_c + 2.0 h_c not in e_coli_core\n",
      "  warn(\"%s not in %s\" % (reaction, self))\n",
      "/home/helikarlab/.venv/lib/python3.10/site-packages/cobra/core/model.py:737: UserWarning: GLNabc: atp_c + gln__L_e + h2o_c --> adp_c + gln__L_c + h_c + pi_c not in e_coli_core\n",
      "  warn(\"%s not in %s\" % (reaction, self))\n",
      "/home/helikarlab/.venv/lib/python3.10/site-packages/cobra/core/model.py:737: UserWarning: MALt2_2: 2.0 h_e + mal__L_e --> 2.0 h_c + mal__L_c not in e_coli_core\n",
      "  warn(\"%s not in %s\" % (reaction, self))\n",
      "/home/helikarlab/.venv/lib/python3.10/site-packages/cobra/core/model.py:737: UserWarning: EX_fru_e not in e_coli_core\n",
      "  warn(\"%s not in %s\" % (reaction, self))\n",
      "/home/helikarlab/.venv/lib/python3.10/site-packages/cobra/core/model.py:737: UserWarning: EX_fum_e not in e_coli_core\n",
      "  warn(\"%s not in %s\" % (reaction, self))\n",
      "/home/helikarlab/.venv/lib/python3.10/site-packages/cobra/core/model.py:737: UserWarning: EX_gln__L_e not in e_coli_core\n",
      "  warn(\"%s not in %s\" % (reaction, self))\n",
      "/home/helikarlab/.venv/lib/python3.10/site-packages/cobra/core/model.py:737: UserWarning: EX_mal__L_e not in e_coli_core\n",
      "  warn(\"%s not in %s\" % (reaction, self))\n",
      "/home/helikarlab/.venv/lib/python3.10/site-packages/cobra/core/model.py:737: UserWarning: FRUpts2 not in e_coli_core\n",
      "  warn(\"%s not in %s\" % (reaction, self))\n",
      "/home/helikarlab/.venv/lib/python3.10/site-packages/cobra/core/model.py:737: UserWarning: FUMt2_2 not in e_coli_core\n",
      "  warn(\"%s not in %s\" % (reaction, self))\n",
      "/home/helikarlab/.venv/lib/python3.10/site-packages/cobra/core/model.py:737: UserWarning: GLNabc not in e_coli_core\n",
      "  warn(\"%s not in %s\" % (reaction, self))\n",
      "/home/helikarlab/.venv/lib/python3.10/site-packages/cobra/core/model.py:737: UserWarning: MALt2_2 not in e_coli_core\n",
      "  warn(\"%s not in %s\" % (reaction, self))\n",
      "/home/helikarlab/.venv/lib/python3.10/site-packages/cobra/core/model.py:737: UserWarning: PFL: coa_c + pyr_c --> accoa_c + for_c not in e_coli_core\n",
      "  warn(\"%s not in %s\" % (reaction, self))\n",
      "/home/helikarlab/.venv/lib/python3.10/site-packages/cobra/core/model.py:737: UserWarning: ACALD: acald_c + coa_c + nad_c <=> accoa_c + h_c + nadh_c not in e_coli_core\n",
      "  warn(\"%s not in %s\" % (reaction, self))\n",
      "/home/helikarlab/.venv/lib/python3.10/site-packages/cobra/core/model.py:737: UserWarning: AKGt2r: akg_e + h_e <=> akg_c + h_c not in e_coli_core\n",
      "  warn(\"%s not in %s\" % (reaction, self))\n",
      "/home/helikarlab/.venv/lib/python3.10/site-packages/cobra/core/model.py:737: UserWarning: ALCD2x: etoh_c + nad_c <=> acald_c + h_c + nadh_c not in e_coli_core\n",
      "  warn(\"%s not in %s\" % (reaction, self))\n",
      "/home/helikarlab/.venv/lib/python3.10/site-packages/cobra/core/model.py:737: UserWarning: ACALDt: acald_e <=> acald_c not in e_coli_core\n",
      "  warn(\"%s not in %s\" % (reaction, self))\n",
      "/home/helikarlab/.venv/lib/python3.10/site-packages/cobra/core/model.py:737: UserWarning: ACKr: ac_c + atp_c <=> actp_c + adp_c not in e_coli_core\n",
      "  warn(\"%s not in %s\" % (reaction, self))\n",
      "/home/helikarlab/.venv/lib/python3.10/site-packages/cobra/core/model.py:737: UserWarning: PPCK: atp_c + oaa_c --> adp_c + co2_c + pep_c not in e_coli_core\n",
      "  warn(\"%s not in %s\" % (reaction, self))\n",
      "/home/helikarlab/.venv/lib/python3.10/site-packages/cobra/core/model.py:737: UserWarning: ACt2r: ac_e + h_e <=> ac_c + h_c not in e_coli_core\n",
      "  warn(\"%s not in %s\" % (reaction, self))\n",
      "/home/helikarlab/.venv/lib/python3.10/site-packages/cobra/core/model.py:737: UserWarning: PPS: atp_c + h2o_c + pyr_c --> amp_c + 2.0 h_c + pep_c + pi_c not in e_coli_core\n",
      "  warn(\"%s not in %s\" % (reaction, self))\n",
      "/home/helikarlab/.venv/lib/python3.10/site-packages/cobra/core/model.py:737: UserWarning: ADK1: amp_c + atp_c <=> 2.0 adp_c not in e_coli_core\n",
      "  warn(\"%s not in %s\" % (reaction, self))\n",
      "/home/helikarlab/.venv/lib/python3.10/site-packages/cobra/core/model.py:737: UserWarning: PTAr: accoa_c + pi_c <=> actp_c + coa_c not in e_coli_core\n",
      "  warn(\"%s not in %s\" % (reaction, self))\n",
      "/home/helikarlab/.venv/lib/python3.10/site-packages/cobra/core/model.py:737: UserWarning: PYRt2: h_e + pyr_e <=> h_c + pyr_c not in e_coli_core\n",
      "  warn(\"%s not in %s\" % (reaction, self))\n",
      "/home/helikarlab/.venv/lib/python3.10/site-packages/cobra/core/model.py:737: UserWarning: SUCCt2_2: 2.0 h_e + succ_e --> 2.0 h_c + succ_c not in e_coli_core\n",
      "  warn(\"%s not in %s\" % (reaction, self))\n",
      "/home/helikarlab/.venv/lib/python3.10/site-packages/cobra/core/model.py:737: UserWarning: D_LACt2: h_e + lac__D_e <=> h_c + lac__D_c not in e_coli_core\n",
      "  warn(\"%s not in %s\" % (reaction, self))\n",
      "/home/helikarlab/.venv/lib/python3.10/site-packages/cobra/core/model.py:737: UserWarning: SUCCt3: h_e + succ_c --> h_c + succ_e not in e_coli_core\n",
      "  warn(\"%s not in %s\" % (reaction, self))\n",
      "/home/helikarlab/.venv/lib/python3.10/site-packages/cobra/core/model.py:737: UserWarning: ETOHt2r: etoh_e + h_e <=> etoh_c + h_c not in e_coli_core\n",
      "  warn(\"%s not in %s\" % (reaction, self))\n",
      "/home/helikarlab/.venv/lib/python3.10/site-packages/cobra/core/model.py:737: UserWarning: THD2: 2.0 h_e + nadh_c + nadp_c --> 2.0 h_c + nad_c + nadph_c not in e_coli_core\n",
      "  warn(\"%s not in %s\" % (reaction, self))\n",
      "/home/helikarlab/.venv/lib/python3.10/site-packages/cobra/core/model.py:737: UserWarning: EX_ac_e: ac_e -->  not in e_coli_core\n",
      "  warn(\"%s not in %s\" % (reaction, self))\n",
      "/home/helikarlab/.venv/lib/python3.10/site-packages/cobra/core/model.py:737: UserWarning: EX_acald_e: acald_e -->  not in e_coli_core\n",
      "  warn(\"%s not in %s\" % (reaction, self))\n",
      "/home/helikarlab/.venv/lib/python3.10/site-packages/cobra/core/model.py:737: UserWarning: EX_akg_e: akg_e -->  not in e_coli_core\n",
      "  warn(\"%s not in %s\" % (reaction, self))\n",
      "/home/helikarlab/.venv/lib/python3.10/site-packages/cobra/core/model.py:737: UserWarning: EX_etoh_e: etoh_e -->  not in e_coli_core\n",
      "  warn(\"%s not in %s\" % (reaction, self))\n",
      "/home/helikarlab/.venv/lib/python3.10/site-packages/cobra/core/model.py:737: UserWarning: EX_for_e: for_e -->  not in e_coli_core\n",
      "  warn(\"%s not in %s\" % (reaction, self))\n",
      "/home/helikarlab/.venv/lib/python3.10/site-packages/cobra/core/model.py:737: UserWarning: EX_fru_e: fru_e -->  not in e_coli_core\n",
      "  warn(\"%s not in %s\" % (reaction, self))\n",
      "/home/helikarlab/.venv/lib/python3.10/site-packages/cobra/core/model.py:737: UserWarning: EX_fum_e: fum_e -->  not in e_coli_core\n",
      "  warn(\"%s not in %s\" % (reaction, self))\n",
      "/home/helikarlab/.venv/lib/python3.10/site-packages/cobra/core/model.py:737: UserWarning: EX_gln__L_e: gln__L_e -->  not in e_coli_core\n",
      "  warn(\"%s not in %s\" % (reaction, self))\n",
      "/home/helikarlab/.venv/lib/python3.10/site-packages/cobra/core/model.py:737: UserWarning: EX_glu__L_e: glu__L_e -->  not in e_coli_core\n",
      "  warn(\"%s not in %s\" % (reaction, self))\n",
      "/home/helikarlab/.venv/lib/python3.10/site-packages/cobra/core/model.py:737: UserWarning: EX_lac__D_e: lac__D_e -->  not in e_coli_core\n",
      "  warn(\"%s not in %s\" % (reaction, self))\n",
      "/home/helikarlab/.venv/lib/python3.10/site-packages/cobra/core/model.py:737: UserWarning: EX_mal__L_e: mal__L_e -->  not in e_coli_core\n",
      "  warn(\"%s not in %s\" % (reaction, self))\n",
      "/home/helikarlab/.venv/lib/python3.10/site-packages/cobra/core/model.py:737: UserWarning: EX_pyr_e: pyr_e -->  not in e_coli_core\n",
      "  warn(\"%s not in %s\" % (reaction, self))\n",
      "/home/helikarlab/.venv/lib/python3.10/site-packages/cobra/core/model.py:737: UserWarning: EX_succ_e: succ_e -->  not in e_coli_core\n",
      "  warn(\"%s not in %s\" % (reaction, self))\n",
      "/home/helikarlab/.venv/lib/python3.10/site-packages/cobra/core/model.py:737: UserWarning: FBP: fdp_c + h2o_c --> f6p_c + pi_c not in e_coli_core\n",
      "  warn(\"%s not in %s\" % (reaction, self))\n",
      "/home/helikarlab/.venv/lib/python3.10/site-packages/cobra/core/model.py:737: UserWarning: FORt2: for_e + h_e --> for_c + h_c not in e_coli_core\n",
      "  warn(\"%s not in %s\" % (reaction, self))\n",
      "/home/helikarlab/.venv/lib/python3.10/site-packages/cobra/core/model.py:737: UserWarning: FORt: for_e <-- for_c not in e_coli_core\n",
      "  warn(\"%s not in %s\" % (reaction, self))\n",
      "/home/helikarlab/.venv/lib/python3.10/site-packages/cobra/core/model.py:737: UserWarning: FRUpts2: fru_e + pep_c --> f6p_c + pyr_c not in e_coli_core\n",
      "  warn(\"%s not in %s\" % (reaction, self))\n",
      "/home/helikarlab/.venv/lib/python3.10/site-packages/cobra/core/model.py:737: UserWarning: FUMt2_2: fum_e + 2.0 h_e --> fum_c + 2.0 h_c not in e_coli_core\n",
      "  warn(\"%s not in %s\" % (reaction, self))\n",
      "/home/helikarlab/.venv/lib/python3.10/site-packages/cobra/core/model.py:737: UserWarning: GLNabc: atp_c + gln__L_e + h2o_c --> adp_c + gln__L_c + h_c + pi_c not in e_coli_core\n",
      "  warn(\"%s not in %s\" % (reaction, self))\n",
      "/home/helikarlab/.venv/lib/python3.10/site-packages/cobra/core/model.py:737: UserWarning: GLUN: gln__L_c + h2o_c --> glu__L_c + nh4_c not in e_coli_core\n",
      "  warn(\"%s not in %s\" % (reaction, self))\n",
      "/home/helikarlab/.venv/lib/python3.10/site-packages/cobra/core/model.py:737: UserWarning: GLUSy: akg_c + gln__L_c + h_c + nadph_c --> 2.0 glu__L_c + nadp_c not in e_coli_core\n",
      "  warn(\"%s not in %s\" % (reaction, self))\n",
      "/home/helikarlab/.venv/lib/python3.10/site-packages/cobra/core/model.py:737: UserWarning: GLUt2r: glu__L_e + h_e <=> glu__L_c + h_c not in e_coli_core\n",
      "  warn(\"%s not in %s\" % (reaction, self))\n",
      "/home/helikarlab/.venv/lib/python3.10/site-packages/cobra/core/model.py:737: UserWarning: ICL: icit_c --> glx_c + succ_c not in e_coli_core\n",
      "  warn(\"%s not in %s\" % (reaction, self))\n",
      "/home/helikarlab/.venv/lib/python3.10/site-packages/cobra/core/model.py:737: UserWarning: LDH_D: lac__D_c + nad_c <=> h_c + nadh_c + pyr_c not in e_coli_core\n",
      "  warn(\"%s not in %s\" % (reaction, self))\n",
      "/home/helikarlab/.venv/lib/python3.10/site-packages/cobra/core/model.py:737: UserWarning: MALS: accoa_c + glx_c + h2o_c --> coa_c + h_c + mal__L_c not in e_coli_core\n",
      "  warn(\"%s not in %s\" % (reaction, self))\n",
      "/home/helikarlab/.venv/lib/python3.10/site-packages/cobra/core/model.py:737: UserWarning: MALt2_2: 2.0 h_e + mal__L_e --> 2.0 h_c + mal__L_c not in e_coli_core\n",
      "  warn(\"%s not in %s\" % (reaction, self))\n",
      "/home/helikarlab/.venv/lib/python3.10/site-packages/cobra/core/model.py:737: UserWarning: ME1: mal__L_c + nad_c --> co2_c + nadh_c + pyr_c not in e_coli_core\n",
      "  warn(\"%s not in %s\" % (reaction, self))\n",
      "/home/helikarlab/.venv/lib/python3.10/site-packages/cobra/core/model.py:737: UserWarning: ME2: mal__L_c + nadp_c --> co2_c + nadph_c + pyr_c not in e_coli_core\n",
      "  warn(\"%s not in %s\" % (reaction, self))\n",
      "/home/helikarlab/.venv/lib/python3.10/site-packages/cobra/core/model.py:737: UserWarning: NADTRHD: nad_c + nadph_c --> nadh_c + nadp_c not in e_coli_core\n",
      "  warn(\"%s not in %s\" % (reaction, self))\n"
     ]
    },
    {
     "ename": "KeyError",
     "evalue": "'PGI'",
     "output_type": "error",
     "traceback": [
      "\u001b[0;31m---------------------------------------------------------------------------\u001b[0m",
      "\u001b[0;31mKeyError\u001b[0m                                  Traceback (most recent call last)",
      "Input \u001b[0;32mIn [7]\u001b[0m, in \u001b[0;36m<cell line: 1>\u001b[0;34m()\u001b[0m\n\u001b[0;32m----> 1\u001b[0m minimized \u001b[38;5;241m=\u001b[39m \u001b[43mminimize_model\u001b[49m\u001b[43m(\u001b[49m\u001b[43mmodel\u001b[49m\u001b[43m)\u001b[49m\n",
      "File \u001b[0;32m~/dev/gempy/src/gempy/model/minimize.py:67\u001b[0m, in \u001b[0;36mminimize_model\u001b[0;34m(model, algorithm)\u001b[0m\n\u001b[1;32m     63\u001b[0m     \u001b[38;5;28;01mraise\u001b[39;00m \u001b[38;5;167;01mValueError\u001b[39;00m(\u001b[38;5;124m\"\u001b[39m\u001b[38;5;124mNot a valid algorithm, accepted are: \u001b[39m\u001b[38;5;132;01m%s\u001b[39;00m\u001b[38;5;124m\"\u001b[39m \u001b[38;5;241m%\u001b[39m \u001b[38;5;124m\"\u001b[39m\u001b[38;5;124m, \u001b[39m\u001b[38;5;124m\"\u001b[39m\u001b[38;5;241m.\u001b[39mjoin(\u001b[38;5;28mlist\u001b[39m(MINIMIZATION_ALGORITHMS)))\n\u001b[1;32m     65\u001b[0m algorithm \u001b[38;5;241m=\u001b[39m MINIMIZATION_ALGORITHMS[algorithm]\n\u001b[0;32m---> 67\u001b[0m \u001b[38;5;28;01mreturn\u001b[39;00m \u001b[43malgorithm\u001b[49m\u001b[43m[\u001b[49m\u001b[38;5;124;43m\"\u001b[39;49m\u001b[38;5;124;43mfn\u001b[39;49m\u001b[38;5;124;43m\"\u001b[39;49m\u001b[43m]\u001b[49m\u001b[43m(\u001b[49m\u001b[43mmodel\u001b[49m\u001b[43m)\u001b[49m\n",
      "File \u001b[0;32m~/dev/gempy/src/gempy/model/minimize.py:49\u001b[0m, in \u001b[0;36mminreact\u001b[0;34m(model, retain, zero_cutoff)\u001b[0m\n\u001b[1;32m     46\u001b[0m         zero_flux_rxn_ids\u001b[38;5;241m.\u001b[39mappend(reaction\u001b[38;5;241m.\u001b[39mid)\n\u001b[1;32m     48\u001b[0m     remove_reaction_ids \u001b[38;5;241m+\u001b[39m\u001b[38;5;241m=\u001b[39m zero_flux_rxn_ids\n\u001b[0;32m---> 49\u001b[0m     remove_reaction_ids \u001b[38;5;241m+\u001b[39m\u001b[38;5;241m=\u001b[39m find_mle_reactions(model, zero_flux_rxns \u001b[38;5;241m=\u001b[39m \u001b[43mmodel\u001b[49m\u001b[38;5;241;43m.\u001b[39;49m\u001b[43mreactions\u001b[49m\u001b[38;5;241;43m.\u001b[39;49m\u001b[43mget_by_any\u001b[49m\u001b[43m(\u001b[49m\u001b[43mzero_flux_rxn_ids\u001b[49m\u001b[43m)\u001b[49m)\n\u001b[1;32m     51\u001b[0m     model\u001b[38;5;241m.\u001b[39mremove_reactions(remove_reaction_ids)\n\u001b[1;32m     53\u001b[0m \u001b[38;5;28;01mreturn\u001b[39;00m model_copy\n",
      "File \u001b[0;32m~/.venv/lib/python3.10/site-packages/cobra/core/dictlist.py:108\u001b[0m, in \u001b[0;36mDictList.get_by_any\u001b[0;34m(self, iterable)\u001b[0m\n\u001b[1;32m    106\u001b[0m \u001b[38;5;28;01mif\u001b[39;00m \u001b[38;5;129;01mnot\u001b[39;00m \u001b[38;5;28misinstance\u001b[39m(iterable, \u001b[38;5;28mlist\u001b[39m):\n\u001b[1;32m    107\u001b[0m     iterable \u001b[38;5;241m=\u001b[39m [iterable]\n\u001b[0;32m--> 108\u001b[0m \u001b[38;5;28;01mreturn\u001b[39;00m [get_item(item) \u001b[38;5;28;01mfor\u001b[39;00m item \u001b[38;5;129;01min\u001b[39;00m iterable]\n",
      "File \u001b[0;32m~/.venv/lib/python3.10/site-packages/cobra/core/dictlist.py:108\u001b[0m, in \u001b[0;36m<listcomp>\u001b[0;34m(.0)\u001b[0m\n\u001b[1;32m    106\u001b[0m \u001b[38;5;28;01mif\u001b[39;00m \u001b[38;5;129;01mnot\u001b[39;00m \u001b[38;5;28misinstance\u001b[39m(iterable, \u001b[38;5;28mlist\u001b[39m):\n\u001b[1;32m    107\u001b[0m     iterable \u001b[38;5;241m=\u001b[39m [iterable]\n\u001b[0;32m--> 108\u001b[0m \u001b[38;5;28;01mreturn\u001b[39;00m [\u001b[43mget_item\u001b[49m\u001b[43m(\u001b[49m\u001b[43mitem\u001b[49m\u001b[43m)\u001b[49m \u001b[38;5;28;01mfor\u001b[39;00m item \u001b[38;5;129;01min\u001b[39;00m iterable]\n",
      "File \u001b[0;32m~/.venv/lib/python3.10/site-packages/cobra/core/dictlist.py:100\u001b[0m, in \u001b[0;36mDictList.get_by_any.<locals>.get_item\u001b[0;34m(item)\u001b[0m\n\u001b[1;32m     98\u001b[0m     \u001b[38;5;28;01mreturn\u001b[39;00m \u001b[38;5;28mself\u001b[39m[item]\n\u001b[1;32m     99\u001b[0m \u001b[38;5;28;01melif\u001b[39;00m \u001b[38;5;28misinstance\u001b[39m(item, \u001b[38;5;28mstr\u001b[39m):\n\u001b[0;32m--> 100\u001b[0m     \u001b[38;5;28;01mreturn\u001b[39;00m \u001b[38;5;28;43mself\u001b[39;49m\u001b[38;5;241;43m.\u001b[39;49m\u001b[43mget_by_id\u001b[49m\u001b[43m(\u001b[49m\u001b[43mitem\u001b[49m\u001b[43m)\u001b[49m\n\u001b[1;32m    101\u001b[0m \u001b[38;5;28;01melif\u001b[39;00m item \u001b[38;5;129;01min\u001b[39;00m \u001b[38;5;28mself\u001b[39m:\n\u001b[1;32m    102\u001b[0m     \u001b[38;5;28;01mreturn\u001b[39;00m item\n",
      "File \u001b[0;32m~/.venv/lib/python3.10/site-packages/cobra/core/dictlist.py:74\u001b[0m, in \u001b[0;36mDictList.get_by_id\u001b[0;34m(self, id)\u001b[0m\n\u001b[1;32m     72\u001b[0m \u001b[38;5;28;01mdef\u001b[39;00m \u001b[38;5;21mget_by_id\u001b[39m(\u001b[38;5;28mself\u001b[39m, \u001b[38;5;28mid\u001b[39m: Union[Object, \u001b[38;5;28mstr\u001b[39m]) \u001b[38;5;241m-\u001b[39m\u001b[38;5;241m>\u001b[39m Object:\n\u001b[1;32m     73\u001b[0m     \u001b[38;5;124;03m\"\"\"Return the element with a matching id.\"\"\"\u001b[39;00m\n\u001b[0;32m---> 74\u001b[0m     \u001b[38;5;28;01mreturn\u001b[39;00m \u001b[38;5;28mlist\u001b[39m\u001b[38;5;241m.\u001b[39m\u001b[38;5;21m__getitem__\u001b[39m(\u001b[38;5;28mself\u001b[39m, \u001b[38;5;28;43mself\u001b[39;49m\u001b[38;5;241;43m.\u001b[39;49m\u001b[43m_dict\u001b[49m\u001b[43m[\u001b[49m\u001b[38;5;28;43mid\u001b[39;49m\u001b[43m]\u001b[49m)\n",
      "\u001b[0;31mKeyError\u001b[0m: 'PGI'"
     ]
    }
   ],
   "source": [
    "minimized = minimize_model(model)"
   ]
  },
  {
   "cell_type": "code",
   "execution_count": null,
   "id": "9226c14d",
   "metadata": {},
   "outputs": [],
   "source": [
    "minimized.optimize()"
   ]
  }
 ],
 "metadata": {
  "kernelspec": {
   "display_name": "Python 3 (ipykernel)",
   "language": "python",
   "name": "python3"
  },
  "language_info": {
   "codemirror_mode": {
    "name": "ipython",
    "version": 3
   },
   "file_extension": ".py",
   "mimetype": "text/x-python",
   "name": "python",
   "nbconvert_exporter": "python",
   "pygments_lexer": "ipython3",
   "version": "3.10.4"
  }
 },
 "nbformat": 4,
 "nbformat_minor": 5
}
