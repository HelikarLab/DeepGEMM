{
 "cells": [
  {
   "cell_type": "markdown",
   "id": "249cb701",
   "metadata": {},
   "source": [
    "# MinREACT"
   ]
  },
  {
   "cell_type": "code",
   "execution_count": 1,
   "id": "1dc4cd51",
   "metadata": {},
   "outputs": [],
   "source": [
    "from cobra.io.web import load_model\n",
    "from gempy.model  import minimize_model\n",
    "from tqdm.auto    import tqdm\n",
    "\n",
    "from bpyutils.log import get_logger\n",
    "\n",
    "logger = get_logger(\"deepgem\")"
   ]
  },
  {
   "cell_type": "code",
   "execution_count": 2,
   "id": "332ae0fd",
   "metadata": {},
   "outputs": [],
   "source": [
    "bigg_ids = [\"iML1515\", \"iJN1463\", \"iAM_Pv461\", \"iMM1415\"]"
   ]
  },
  {
   "cell_type": "code",
   "execution_count": null,
   "id": "24f3957e",
   "metadata": {},
   "outputs": [
    {
     "data": {
      "application/vnd.jupyter.widget-view+json": {
       "model_id": "f31b6c950a2a4f0f989e711821b75c36",
       "version_major": 2,
       "version_minor": 0
      },
      "text/plain": [
       "Generating minimized models...:   0%|          | 0/4 [00:00<?, ?it/s]"
      ]
     },
     "metadata": {},
     "output_type": "display_data"
    },
    {
     "name": "stdout",
     "output_type": "stream",
     "text": [
      "Scaling...\n",
      " A: min|aij| =  1.000e+00  max|aij| =  1.000e+00  ratio =  1.000e+00\n",
      "Problem data seem to be well scaled\n"
     ]
    },
    {
     "name": "stderr",
     "output_type": "stream",
     "text": [
      "deepgem | 2022-10-03 14:40:45,349 | INFO | Minimizing iML1515...\n",
      "gempy | 2022-10-03 14:40:45,620 | INFO | Using tolerance: 1e-06\n",
      "gempy | 2022-10-03 14:40:45,620 | INFO | Performing FBA to obtain maximum growth rate of objective reaction...\n",
      "gempy | 2022-10-03 14:40:46,007 | INFO | wild-type growth rate: 0.8770\n",
      "gempy | 2022-10-03 14:40:46,007 | INFO | Finding and deleting blocked reactions...\n",
      "gempy | 2022-10-03 14:41:10,216 | SUCCESS | Found 260 blocked reactions.\n",
      "gempy | 2022-10-03 14:41:10,556 | INFO | Currently 2452 reactions within model.\n",
      "gempy | 2022-10-03 14:41:10,557 | INFO | Fetching single synthetic lethal reactions...\n",
      "gempy | 2022-10-03 14:41:10,557 | INFO | Optimizing using Synthetic Lethality...\n",
      "gempy | 2022-10-03 14:41:10,729 | INFO | Optimized. Objective Value: 0.8769972144267998\n",
      "gempy | 2022-10-03 14:41:10,730 | INFO | Pruned Reactions: 430\n"
     ]
    }
   ],
   "source": [
    "for bigg_id in tqdm(bigg_ids, total = len(bigg_ids), desc = \"Generating minimized models...\"):\n",
    "    model = load_model(bigg_id)\n",
    "    \n",
    "    logger.info(\"Minimizing %s...\" % bigg_id)\n",
    "    \n",
    "    minimized = minimize_model(model)"
   ]
  },
  {
   "cell_type": "code",
   "execution_count": null,
   "id": "8e88c4b0",
   "metadata": {},
   "outputs": [],
   "source": [
    "minimized = minimize_model(model, maintain = [])"
   ]
  },
  {
   "cell_type": "code",
   "execution_count": null,
   "id": "9226c14d",
   "metadata": {},
   "outputs": [],
   "source": [
    "minimized.optimize()"
   ]
  }
 ],
 "metadata": {
  "kernelspec": {
   "display_name": "Python 3 (ipykernel)",
   "language": "python",
   "name": "python3"
  },
  "language_info": {
   "codemirror_mode": {
    "name": "ipython",
    "version": 3
   },
   "file_extension": ".py",
   "mimetype": "text/x-python",
   "name": "python",
   "nbconvert_exporter": "python",
   "pygments_lexer": "ipython3",
   "version": "3.10.6"
  }
 },
 "nbformat": 4,
 "nbformat_minor": 5
}
