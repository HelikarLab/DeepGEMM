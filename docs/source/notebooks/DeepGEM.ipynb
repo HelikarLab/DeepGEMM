{
 "cells": [
  {
   "cell_type": "markdown",
   "id": "249cb701",
   "metadata": {},
   "source": [
    "# MinREACT"
   ]
  },
  {
   "cell_type": "code",
   "execution_count": 1,
   "id": "1dc4cd51",
   "metadata": {},
   "outputs": [],
   "source": [
    "import cobra\n",
    "\n",
    "from cobra.io.web import load_model\n",
    "from dgemm.model  import minimize_model\n",
    "from tqdm.auto    import tqdm\n",
    "\n",
    "from bpyutils.log import get_logger\n",
    "\n",
    "logger = get_logger(\"deepgem\")\n",
    "\n",
    "cobra_config = cobra.Configuration()\n",
    "# cobra_config.solver = \"cplex\""
   ]
  },
  {
   "cell_type": "code",
   "execution_count": 2,
   "id": "332ae0fd",
   "metadata": {},
   "outputs": [],
   "source": [
    "bigg_ids = [\"e_coli_core\"] # \"iML1515\", \"iJN1463\", \"iAM_Pv461\", \"iMM1415\"]"
   ]
  },
  {
   "cell_type": "code",
   "execution_count": 3,
   "id": "24f3957e",
   "metadata": {},
   "outputs": [
    {
     "data": {
      "application/vnd.jupyter.widget-view+json": {
       "model_id": "b8f287b01ecb4a5789317b8062e1420d",
       "version_major": 2,
       "version_minor": 0
      },
      "text/plain": [
       "Generating minimized models...:   0%|          | 0/1 [00:00<?, ?it/s]"
      ]
     },
     "metadata": {},
     "output_type": "display_data"
    },
    {
     "name": "stderr",
     "output_type": "stream",
     "text": [
      "deepgem | 2022-10-18 14:02:55,847 | INFO | Minimizing e_coli_core...\n",
      "dgemm | 2022-10-18 14:02:55,879 | INFO | Using tolerance: 1e-06\n",
      "dgemm | 2022-10-18 14:02:55,879 | INFO | Performing FBA to obtain maximum growth rate of objective reaction...\n",
      "dgemm | 2022-10-18 14:02:55,881 | INFO | wild-type growth rate: 0.8739\n",
      "dgemm | 2022-10-18 14:02:55,881 | INFO | Finding and deleting blocked reactions...\n"
     ]
    },
    {
     "data": {
      "application/vnd.jupyter.widget-view+json": {
       "model_id": "39e5ab1fd0a74adb8b5a468affd5c3d5",
       "version_major": 2,
       "version_minor": 0
      },
      "text/plain": [
       "Output()"
      ]
     },
     "metadata": {},
     "output_type": "display_data"
    },
    {
     "name": "stdout",
     "output_type": "stream",
     "text": [
      "Scaling...\n",
      " A: min|aij| =  1.000e+00  max|aij| =  1.000e+00  ratio =  1.000e+00\n",
      "Problem data seem to be well scaled\n"
     ]
    },
    {
     "data": {
      "text/html": [
       "<pre style=\"white-space:pre;overflow-x:auto;line-height:normal;font-family:Menlo,'DejaVu Sans Mono',consolas,'Courier New',monospace\"></pre>\n"
      ],
      "text/plain": []
     },
     "metadata": {},
     "output_type": "display_data"
    },
    {
     "data": {
      "text/html": [
       "<pre style=\"white-space:pre;overflow-x:auto;line-height:normal;font-family:Menlo,'DejaVu Sans Mono',consolas,'Courier New',monospace\">\n",
       "</pre>\n"
      ],
      "text/plain": [
       "\n"
      ]
     },
     "metadata": {},
     "output_type": "display_data"
    },
    {
     "name": "stderr",
     "output_type": "stream",
     "text": [
      "dgemm | 2022-10-18 14:03:03,301 | SUCCESS | Found 0 blocked reactions.\n",
      "dgemm | 2022-10-18 14:03:03,302 | INFO | Currently 95 reactions within model.\n",
      "dgemm | 2022-10-18 14:03:03,302 | INFO | Fetching single synthetic lethal reactions...\n",
      "dgemm | 2022-10-18 14:03:03,303 | INFO | Optimizing (taxicab norm) using Synthetic Lethality...\n",
      "dgemm | 2022-10-18 14:03:03,306 | INFO | Optimized. Objective Value: 0.8739215069684292\n",
      "dgemm | 2022-10-18 14:03:03,307 | INFO | Pruned Reactions: 47\n",
      "dgemm | 2022-10-18 14:03:06,635 | SUCCESS | Found 47 pfba essential reactions.\n",
      "dgemm | 2022-10-18 14:03:06,636 | INFO | Finding zero-flux reactions with FVA...\n",
      "dgemm | 2022-10-18 14:03:06,637 | INFO | Using 8 jobs for FVA.\n"
     ]
    },
    {
     "data": {
      "application/vnd.jupyter.widget-view+json": {
       "model_id": "cf4de5c6b58645999361af5fa42c8f13",
       "version_major": 2,
       "version_minor": 0
      },
      "text/plain": [
       "Output()"
      ]
     },
     "metadata": {},
     "output_type": "display_data"
    },
    {
     "data": {
      "text/html": [
       "<pre style=\"white-space:pre;overflow-x:auto;line-height:normal;font-family:Menlo,'DejaVu Sans Mono',consolas,'Courier New',monospace\"></pre>\n"
      ],
      "text/plain": []
     },
     "metadata": {},
     "output_type": "display_data"
    },
    {
     "data": {
      "text/html": [
       "<pre style=\"white-space:pre;overflow-x:auto;line-height:normal;font-family:Menlo,'DejaVu Sans Mono',consolas,'Courier New',monospace\">\n",
       "</pre>\n"
      ],
      "text/plain": [
       "\n"
      ]
     },
     "metadata": {},
     "output_type": "display_data"
    },
    {
     "name": "stderr",
     "output_type": "stream",
     "text": [
      "dgemm | 2022-10-18 14:03:13,510 | SUCCESS | Found 46 zero-flux reactions with FVA\n",
      "dgemm | 2022-10-18 14:03:13,516 | INFO | Finding metabolically less efficient reactions...\n",
      "dgemm | 2022-10-18 14:03:13,517 | INFO | Performing FBA to obtain maximum growth rate of objective reaction...\n",
      "dgemm | 2022-10-18 14:03:13,519 | INFO | wild-type growth rate: 0.8739\n",
      "dgemm | 2022-10-18 14:03:13,519 | INFO | Using 8 jobs for FVA.\n"
     ]
    },
    {
     "data": {
      "application/vnd.jupyter.widget-view+json": {
       "model_id": "688a1dd2c6c44d2dae451cf8202d8f62",
       "version_major": 2,
       "version_minor": 0
      },
      "text/plain": [
       "Output()"
      ]
     },
     "metadata": {},
     "output_type": "display_data"
    },
    {
     "data": {
      "text/html": [
       "<pre style=\"white-space:pre;overflow-x:auto;line-height:normal;font-family:Menlo,'DejaVu Sans Mono',consolas,'Courier New',monospace\"></pre>\n"
      ],
      "text/plain": []
     },
     "metadata": {},
     "output_type": "display_data"
    },
    {
     "data": {
      "text/html": [
       "<pre style=\"white-space:pre;overflow-x:auto;line-height:normal;font-family:Menlo,'DejaVu Sans Mono',consolas,'Courier New',monospace\">\n",
       "</pre>\n"
      ],
      "text/plain": [
       "\n"
      ]
     },
     "metadata": {},
     "output_type": "display_data"
    },
    {
     "name": "stderr",
     "output_type": "stream",
     "text": [
      "dgemm | 2022-10-18 14:03:20,430 | INFO | Found 0 reactions with flux < 1e-06\n",
      "dgemm | 2022-10-18 14:03:20,430 | INFO | Found 0 MLE reactions.\n",
      "dgemm | 2022-10-18 14:03:20,431 | INFO | Currently 72 metabolites, 49 reactions in model.\n",
      "dgemm | 2022-10-18 14:03:20,431 | INFO | Minimizing flux...\n",
      "dgemm | 2022-10-18 14:03:20,480 | INFO | Objective Value (irr): 518.4220855176071\n",
      "dgemm | 2022-10-18 14:03:20,481 | INFO | number of metabolites, reactions and genes (irr): 73, 83, 137\n",
      "dgemm | 2022-10-18 14:03:20,481 | INFO | Minimized flux: 518.4220855176071\n",
      "dgemm | 2022-10-18 14:03:20,482 | INFO | Using 8 jobs for FVA.\n"
     ]
    },
    {
     "data": {
      "application/vnd.jupyter.widget-view+json": {
       "model_id": "f42a4d05dadf4894a38517560561da08",
       "version_major": 2,
       "version_minor": 0
      },
      "text/plain": [
       "Output()"
      ]
     },
     "metadata": {},
     "output_type": "display_data"
    },
    {
     "data": {
      "text/html": [
       "<pre style=\"white-space:pre;overflow-x:auto;line-height:normal;font-family:Menlo,'DejaVu Sans Mono',consolas,'Courier New',monospace\"></pre>\n"
      ],
      "text/plain": []
     },
     "metadata": {},
     "output_type": "display_data"
    },
    {
     "data": {
      "text/html": [
       "<pre style=\"white-space:pre;overflow-x:auto;line-height:normal;font-family:Menlo,'DejaVu Sans Mono',consolas,'Courier New',monospace\">\n",
       "</pre>\n"
      ],
      "text/plain": [
       "\n"
      ]
     },
     "metadata": {},
     "output_type": "display_data"
    },
    {
     "name": "stderr",
     "output_type": "stream",
     "text": [
      "dgemm | 2022-10-18 14:03:27,257 | INFO | FVA irr n reactions: 49\n",
      "dgemm | 2022-10-18 14:03:27,258 | INFO | Finding optimal reactions...\n",
      "dgemm | 2022-10-18 14:03:27,259 | INFO | Found 2 pfba opt reactions.\n",
      "dgemm | 2022-10-18 14:03:27,259 | INFO | pfba opt reactions are: ['ATPM' 'min_flux']\n",
      "dgemm | 2022-10-18 14:03:27,267 | INFO | Removing 46 reaction classes from model...\n",
      "dgemm | 2022-10-18 14:03:27,268 | INFO | Using 0 pfba opt reactions.\n"
     ]
    },
    {
     "name": "stdout",
     "output_type": "stream",
     "text": [
      "Solution (org): <Solution 0.874 at 0x16b7f85b0>\n",
      "Solution (min): <Solution 0.874 at 0x16b7f8700>\n"
     ]
    }
   ],
   "source": [
    "for bigg_id in tqdm(bigg_ids, total = len(bigg_ids), desc = \"Generating minimized models...\"):\n",
    "    model = load_model(bigg_id)\n",
    "    \n",
    "    logger.info(\"Minimizing %s...\" % bigg_id)\n",
    "    \n",
    "    min_rxns, minimized = minimize_model(model)\n",
    "    \n",
    "    print(\"Solution (org):\", model.optimize())\n",
    "    print(\"Solution (min):\", minimized.optimize())"
   ]
  },
  {
   "cell_type": "code",
   "execution_count": null,
   "id": "cbe56df7",
   "metadata": {},
   "outputs": [],
   "source": []
  },
  {
   "cell_type": "code",
   "execution_count": null,
   "id": "378e7ba3",
   "metadata": {},
   "outputs": [],
   "source": []
  }
 ],
 "metadata": {
  "kernelspec": {
   "display_name": "Python 3 (ipykernel)",
   "language": "python",
   "name": "python3"
  },
  "language_info": {
   "codemirror_mode": {
    "name": "ipython",
    "version": 3
   },
   "file_extension": ".py",
   "mimetype": "text/x-python",
   "name": "python",
   "nbconvert_exporter": "python",
   "pygments_lexer": "ipython3",
   "version": "3.10.6"
  }
 },
 "nbformat": 4,
 "nbformat_minor": 5
}
