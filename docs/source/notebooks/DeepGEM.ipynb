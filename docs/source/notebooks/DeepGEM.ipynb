{
 "cells": [
  {
   "cell_type": "markdown",
   "id": "249cb701",
   "metadata": {},
   "source": [
    "# MinREACT"
   ]
  },
  {
   "cell_type": "code",
   "execution_count": 1,
   "id": "1dc4cd51",
   "metadata": {},
   "outputs": [],
   "source": [
    "import cobra\n",
    "\n",
    "from cobra.io.web import load_model\n",
    "from dgemm.model  import minimize_model\n",
    "from tqdm.auto    import tqdm\n",
    "\n",
    "from bpyutils.log import get_logger\n",
    "\n",
    "logger = get_logger(\"deepgem\")\n",
    "\n",
    "cobra_config = cobra.Configuration()\n",
    "# cobra_config.solver = \"cplex\""
   ]
  },
  {
   "cell_type": "code",
   "execution_count": 2,
   "id": "332ae0fd",
   "metadata": {},
   "outputs": [],
   "source": [
    "bigg_ids = [\"iML1515\"] # \"iML1515\", \"iJN1463\", \"iAM_Pv461\", \"iMM1415\"]"
   ]
  },
  {
   "cell_type": "code",
   "execution_count": null,
   "id": "24f3957e",
   "metadata": {},
   "outputs": [
    {
     "data": {
      "application/vnd.jupyter.widget-view+json": {
       "model_id": "3872804166f24811bd48c8334e6f3822",
       "version_major": 2,
       "version_minor": 0
      },
      "text/plain": [
       "Generating minimized models...:   0%|          | 0/1 [00:00<?, ?it/s]"
      ]
     },
     "metadata": {},
     "output_type": "display_data"
    },
    {
     "name": "stdout",
     "output_type": "stream",
     "text": [
      "Scaling...\n",
      " A: min|aij| =  1.000e+00  max|aij| =  1.000e+00  ratio =  1.000e+00\n",
      "Problem data seem to be well scaled\n"
     ]
    },
    {
     "name": "stderr",
     "output_type": "stream",
     "text": [
      "deepgem | 2022-10-17 17:05:29,139 | INFO | Minimizing iML1515...\n",
      "dgemm | 2022-10-17 17:05:29,504 | INFO | Using tolerance: 1e-06\n",
      "dgemm | 2022-10-17 17:05:29,504 | INFO | Performing FBA to obtain maximum growth rate of objective reaction...\n",
      "dgemm | 2022-10-17 17:05:29,910 | INFO | wild-type growth rate: 0.8770\n",
      "dgemm | 2022-10-17 17:05:29,911 | INFO | Finding and deleting blocked reactions...\n",
      "dgemm | 2022-10-17 17:05:58,130 | SUCCESS | Found 260 blocked reactions.\n",
      "dgemm | 2022-10-17 17:05:58,404 | INFO | Currently 2452 reactions within model.\n",
      "dgemm | 2022-10-17 17:05:58,404 | INFO | Fetching single synthetic lethal reactions...\n",
      "dgemm | 2022-10-17 17:05:58,404 | INFO | Optimizing (taxicab norm) using Synthetic Lethality...\n",
      "dgemm | 2022-10-17 17:05:58,571 | INFO | Optimized. Objective Value: 0.8769972144267998\n",
      "dgemm | 2022-10-17 17:05:58,572 | INFO | Pruned Reactions: 430\n",
      "dgemm | 2022-10-17 17:06:19,879 | SUCCESS | Found 360 pfba essential reactions.\n",
      "dgemm | 2022-10-17 17:06:19,880 | INFO | Finding zero-flux reactions with FVA...\n",
      "dgemm | 2022-10-17 17:06:19,881 | INFO | Using 8 jobs for FVA.\n",
      "/Users/achillesrasquinha/dev/cobrapy/src/cobra/util/solver.py:554: UserWarning: Solver status is 'infeasible'.\n",
      "  warn(f\"Solver status is '{status}'.\", UserWarning)\n",
      "/Users/achillesrasquinha/dev/cobrapy/src/cobra/util/solver.py:554: UserWarning: Solver status is 'infeasible'.\n",
      "  warn(f\"Solver status is '{status}'.\", UserWarning)\n",
      "/Users/achillesrasquinha/dev/cobrapy/src/cobra/util/solver.py:554: UserWarning: Solver status is 'infeasible'.\n",
      "  warn(f\"Solver status is '{status}'.\", UserWarning)\n",
      "/Users/achillesrasquinha/dev/cobrapy/src/cobra/util/solver.py:554: UserWarning: Solver status is 'infeasible'.\n",
      "  warn(f\"Solver status is '{status}'.\", UserWarning)\n",
      "/Users/achillesrasquinha/dev/cobrapy/src/cobra/util/solver.py:554: UserWarning: Solver status is 'infeasible'.\n",
      "  warn(f\"Solver status is '{status}'.\", UserWarning)\n",
      "/Users/achillesrasquinha/dev/cobrapy/src/cobra/util/solver.py:554: UserWarning: Solver status is 'infeasible'.\n",
      "  warn(f\"Solver status is '{status}'.\", UserWarning)\n",
      "/Users/achillesrasquinha/dev/cobrapy/src/cobra/util/solver.py:554: UserWarning: Solver status is 'infeasible'.\n",
      "  warn(f\"Solver status is '{status}'.\", UserWarning)\n",
      "/Users/achillesrasquinha/dev/cobrapy/src/cobra/util/solver.py:554: UserWarning: Solver status is 'infeasible'.\n",
      "  warn(f\"Solver status is '{status}'.\", UserWarning)\n",
      "/Users/achillesrasquinha/dev/cobrapy/src/cobra/util/solver.py:554: UserWarning: Solver status is 'infeasible'.\n",
      "  warn(f\"Solver status is '{status}'.\", UserWarning)\n",
      "/Users/achillesrasquinha/dev/cobrapy/src/cobra/util/solver.py:554: UserWarning: Solver status is 'infeasible'.\n",
      "  warn(f\"Solver status is '{status}'.\", UserWarning)\n",
      "/Users/achillesrasquinha/dev/cobrapy/src/cobra/util/solver.py:554: UserWarning: Solver status is 'infeasible'.\n",
      "  warn(f\"Solver status is '{status}'.\", UserWarning)\n",
      "/Users/achillesrasquinha/dev/cobrapy/src/cobra/util/solver.py:554: UserWarning: Solver status is 'infeasible'.\n",
      "  warn(f\"Solver status is '{status}'.\", UserWarning)\n",
      "/Users/achillesrasquinha/dev/cobrapy/src/cobra/util/solver.py:554: UserWarning: Solver status is 'infeasible'.\n",
      "  warn(f\"Solver status is '{status}'.\", UserWarning)\n",
      "/Users/achillesrasquinha/dev/cobrapy/src/cobra/util/solver.py:554: UserWarning: Solver status is 'infeasible'.\n",
      "  warn(f\"Solver status is '{status}'.\", UserWarning)\n",
      "/Users/achillesrasquinha/dev/cobrapy/src/cobra/util/solver.py:554: UserWarning: Solver status is 'infeasible'.\n",
      "  warn(f\"Solver status is '{status}'.\", UserWarning)\n",
      "/Users/achillesrasquinha/dev/cobrapy/src/cobra/util/solver.py:554: UserWarning: Solver status is 'infeasible'.\n",
      "  warn(f\"Solver status is '{status}'.\", UserWarning)\n"
     ]
    }
   ],
   "source": [
    "for bigg_id in tqdm(bigg_ids, total = len(bigg_ids), desc = \"Generating minimized models...\"):\n",
    "    model = load_model(bigg_id)\n",
    "    \n",
    "    logger.info(\"Minimizing %s...\" % bigg_id)\n",
    "    \n",
    "    min_rxns, minimized = minimize_model(model)\n",
    "    \n",
    "    print(\"Solution (org):\", model.optimize())\n",
    "    print(\"Solution (min):\", minimized.optimize())"
   ]
  },
  {
   "cell_type": "code",
   "execution_count": null,
   "id": "cbe56df7",
   "metadata": {},
   "outputs": [],
   "source": []
  }
 ],
 "metadata": {
  "kernelspec": {
   "display_name": "Python 3 (ipykernel)",
   "language": "python",
   "name": "python3"
  },
  "language_info": {
   "codemirror_mode": {
    "name": "ipython",
    "version": 3
   },
   "file_extension": ".py",
   "mimetype": "text/x-python",
   "name": "python",
   "nbconvert_exporter": "python",
   "pygments_lexer": "ipython3",
   "version": "3.10.6"
  }
 },
 "nbformat": 4,
 "nbformat_minor": 5
}
