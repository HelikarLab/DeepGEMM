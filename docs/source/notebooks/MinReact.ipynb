{
 "cells": [
  {
   "cell_type": "markdown",
   "id": "249cb701",
   "metadata": {},
   "source": [
    "# MinREACT"
   ]
  },
  {
   "cell_type": "code",
   "execution_count": null,
   "id": "1dc4cd51",
   "metadata": {},
   "outputs": [],
   "source": [
    "from cobra.io.web import load_model\n",
    "from gempy.model  import minimize_model\n",
    "\n",
    "from bpyutils.log import get_logger"
   ]
  },
  {
   "cell_type": "code",
   "execution_count": null,
   "id": "332ae0fd",
   "metadata": {},
   "outputs": [],
   "source": [
    "bigg_ids = [\"iML1515\", \"iJN1463\", \"iAM_Pv461\", \"iMM1415\"]"
   ]
  },
  {
   "cell_type": "code",
   "execution_count": null,
   "id": "24f3957e",
   "metadata": {},
   "outputs": [],
   "source": [
    "for bigg_id in tqdm(bigg_ids, total = len(bigg_ids), desc = \"Generating minimized models...\"):\n",
    "    model = load_model(bigg_id)\n",
    "    \n",
    "    logger.info(\"Minimizing %s...\" % bigg_id)\n",
    "    \n",
    "    minimized = minimize_model(model)"
   ]
  },
  {
   "cell_type": "code",
   "execution_count": null,
   "id": "c4cc0c0e",
   "metadata": {},
   "outputs": [],
   "source": []
  },
  {
   "cell_type": "code",
   "execution_count": null,
   "id": "8e88c4b0",
   "metadata": {},
   "outputs": [],
   "source": [
    "minimized = minimize_model(model, maintain = [])"
   ]
  },
  {
   "cell_type": "code",
   "execution_count": null,
   "id": "9226c14d",
   "metadata": {},
   "outputs": [],
   "source": [
    "minimized.optimize()"
   ]
  }
 ],
 "metadata": {
  "kernelspec": {
   "display_name": "Python 3 (ipykernel)",
   "language": "python",
   "name": "python3"
  },
  "language_info": {
   "codemirror_mode": {
    "name": "ipython",
    "version": 3
   },
   "file_extension": ".py",
   "mimetype": "text/x-python",
   "name": "python",
   "nbconvert_exporter": "python",
   "pygments_lexer": "ipython3",
   "version": "3.10.6"
  }
 },
 "nbformat": 4,
 "nbformat_minor": 5
}
