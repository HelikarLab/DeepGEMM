{
 "cells": [
  {
   "cell_type": "markdown",
   "id": "249cb701",
   "metadata": {},
   "source": [
    "# MinREACT"
   ]
  },
  {
   "cell_type": "code",
   "execution_count": 1,
   "id": "1dc4cd51",
   "metadata": {},
   "outputs": [],
   "source": [
    "from cobra.io.web import load_model"
   ]
  },
  {
   "cell_type": "code",
   "execution_count": 2,
   "id": "24f3957e",
   "metadata": {},
   "outputs": [],
   "source": [
    "model = load_model(\"Recon3D\")"
   ]
  },
  {
   "cell_type": "code",
   "execution_count": 3,
   "id": "c4cc0c0e",
   "metadata": {},
   "outputs": [],
   "source": [
    "from gempy.model import minimize_model"
   ]
  },
  {
   "cell_type": "code",
   "execution_count": 4,
   "id": "8e88c4b0",
   "metadata": {},
   "outputs": [
    {
     "name": "stderr",
     "output_type": "stream",
     "text": [
      "gempy | 2022-10-02 22:14:05,015 | INFO | Using tolerance: 1e-07\n",
      "gempy | 2022-10-02 22:14:05,020 | INFO | Performing FBA to obtain maximum growth rate of objective reaction...\n",
      "gempy | 2022-10-02 22:14:05,036 | INFO | wild-type growth rate: 0.8739\n",
      "gempy | 2022-10-02 22:14:05,037 | INFO | Finding and deleting blocked reactions...\n"
     ]
    },
    {
     "data": {
      "application/vnd.jupyter.widget-view+json": {
       "model_id": "ab9dc0a0cd6d4097872c2ed6a8476f9f",
       "version_major": 2,
       "version_minor": 0
      },
      "text/plain": [
       "Output()"
      ]
     },
     "metadata": {},
     "output_type": "display_data"
    },
    {
     "data": {
      "text/html": [
       "<pre style=\"white-space:pre;overflow-x:auto;line-height:normal;font-family:Menlo,'DejaVu Sans Mono',consolas,'Courier New',monospace\"></pre>\n"
      ],
      "text/plain": []
     },
     "metadata": {},
     "output_type": "display_data"
    },
    {
     "data": {
      "text/html": [
       "<pre style=\"white-space:pre;overflow-x:auto;line-height:normal;font-family:Menlo,'DejaVu Sans Mono',consolas,'Courier New',monospace\">\n",
       "</pre>\n"
      ],
      "text/plain": [
       "\n"
      ]
     },
     "metadata": {},
     "output_type": "display_data"
    },
    {
     "name": "stderr",
     "output_type": "stream",
     "text": [
      "gempy | 2022-10-02 22:14:05,276 | SUCCESS | Found 0 blocked reactions.\n",
      "gempy | 2022-10-02 22:14:05,277 | INFO | Currently 95 reactions within model.\n",
      "gempy | 2022-10-02 22:14:05,278 | INFO | Fetching single synthetic lethal reactions...\n",
      "gempy | 2022-10-02 22:14:05,279 | INFO | Optimizing using Synthetic Lethality...\n",
      "gempy | 2022-10-02 22:14:05,283 | INFO | Optimized. Objective Value: 0.8739215069684304\n",
      "gempy | 2022-10-02 22:14:05,284 | INFO | Pruned Reactions: 48\n",
      "gempy | 2022-10-02 22:14:05,388 | SUCCESS | Found 47 pfba essential reactions.\n",
      "gempy | 2022-10-02 22:14:05,389 | INFO | Finding zero-flux reactions with FVA...\n"
     ]
    },
    {
     "data": {
      "application/vnd.jupyter.widget-view+json": {
       "model_id": "f4aa042a9f974a8bbf8bacb5a59b5a54",
       "version_major": 2,
       "version_minor": 0
      },
      "text/plain": [
       "Output()"
      ]
     },
     "metadata": {},
     "output_type": "display_data"
    },
    {
     "data": {
      "text/html": [
       "<pre style=\"white-space:pre;overflow-x:auto;line-height:normal;font-family:Menlo,'DejaVu Sans Mono',consolas,'Courier New',monospace\"></pre>\n"
      ],
      "text/plain": []
     },
     "metadata": {},
     "output_type": "display_data"
    },
    {
     "data": {
      "text/html": [
       "<pre style=\"white-space:pre;overflow-x:auto;line-height:normal;font-family:Menlo,'DejaVu Sans Mono',consolas,'Courier New',monospace\">\n",
       "</pre>\n"
      ],
      "text/plain": [
       "\n"
      ]
     },
     "metadata": {},
     "output_type": "display_data"
    },
    {
     "name": "stderr",
     "output_type": "stream",
     "text": [
      "gempy | 2022-10-02 22:14:05,610 | INFO | Using 8 jobs for FVA.\n"
     ]
    },
    {
     "data": {
      "application/vnd.jupyter.widget-view+json": {
       "model_id": "6e8cd2f85b934faabb00084b81c60796",
       "version_major": 2,
       "version_minor": 0
      },
      "text/plain": [
       "Output()"
      ]
     },
     "metadata": {},
     "output_type": "display_data"
    },
    {
     "data": {
      "text/html": [
       "<pre style=\"white-space:pre;overflow-x:auto;line-height:normal;font-family:Menlo,'DejaVu Sans Mono',consolas,'Courier New',monospace\"></pre>\n"
      ],
      "text/plain": []
     },
     "metadata": {},
     "output_type": "display_data"
    },
    {
     "data": {
      "text/html": [
       "<pre style=\"white-space:pre;overflow-x:auto;line-height:normal;font-family:Menlo,'DejaVu Sans Mono',consolas,'Courier New',monospace\">\n",
       "</pre>\n"
      ],
      "text/plain": [
       "\n"
      ]
     },
     "metadata": {},
     "output_type": "display_data"
    },
    {
     "name": "stderr",
     "output_type": "stream",
     "text": [
      "gempy | 2022-10-02 22:14:05,823 | SUCCESS | Found 46 zero-flux reactions with FVA\n",
      "gempy | 2022-10-02 22:14:05,844 | INFO | Finding metabolically less efficient reactions...\n",
      "gempy | 2022-10-02 22:14:05,844 | INFO | Performing FBA to obtain maximum growth rate of objective reaction...\n",
      "gempy | 2022-10-02 22:14:05,847 | INFO | wild-type growth rate: 0.8739\n",
      "gempy | 2022-10-02 22:14:05,848 | INFO | Using 8 jobs for FVA.\n"
     ]
    },
    {
     "data": {
      "application/vnd.jupyter.widget-view+json": {
       "model_id": "ddf9b31ee20f401b9b4b013fbae16831",
       "version_major": 2,
       "version_minor": 0
      },
      "text/plain": [
       "Output()"
      ]
     },
     "metadata": {},
     "output_type": "display_data"
    },
    {
     "data": {
      "text/html": [
       "<pre style=\"white-space:pre;overflow-x:auto;line-height:normal;font-family:Menlo,'DejaVu Sans Mono',consolas,'Courier New',monospace\"></pre>\n"
      ],
      "text/plain": []
     },
     "metadata": {},
     "output_type": "display_data"
    },
    {
     "data": {
      "text/html": [
       "<pre style=\"white-space:pre;overflow-x:auto;line-height:normal;font-family:Menlo,'DejaVu Sans Mono',consolas,'Courier New',monospace\">\n",
       "</pre>\n"
      ],
      "text/plain": [
       "\n"
      ]
     },
     "metadata": {},
     "output_type": "display_data"
    },
    {
     "name": "stderr",
     "output_type": "stream",
     "text": [
      "gempy | 2022-10-02 22:14:06,047 | INFO | Found 0 reactions with flux < 1e-07\n",
      "gempy | 2022-10-02 22:14:06,048 | INFO | Found 0 MLE reactions.\n",
      "gempy | 2022-10-02 22:14:06,048 | INFO | Currently 51 metabolites, 49 reactions in model.\n",
      "gempy | 2022-10-02 22:14:06,049 | INFO | Minimizing flux...\n",
      "gempy | 2022-10-02 22:14:06,138 | INFO | Objective Value (irr): 518.4220855176064\n",
      "gempy | 2022-10-02 22:14:06,138 | INFO | number of metabolites, reactions and genes (irr): 52, 83, 92\n",
      "gempy | 2022-10-02 22:14:06,139 | INFO | Minimized flux: 518.4220855176064\n",
      "gempy | 2022-10-02 22:14:06,140 | INFO | Using 8 jobs for FVA.\n"
     ]
    },
    {
     "data": {
      "application/vnd.jupyter.widget-view+json": {
       "model_id": "ec6c44704a554179882a695b01570ae1",
       "version_major": 2,
       "version_minor": 0
      },
      "text/plain": [
       "Output()"
      ]
     },
     "metadata": {},
     "output_type": "display_data"
    },
    {
     "data": {
      "text/html": [
       "<pre style=\"white-space:pre;overflow-x:auto;line-height:normal;font-family:Menlo,'DejaVu Sans Mono',consolas,'Courier New',monospace\"></pre>\n"
      ],
      "text/plain": []
     },
     "metadata": {},
     "output_type": "display_data"
    },
    {
     "data": {
      "text/html": [
       "<pre style=\"white-space:pre;overflow-x:auto;line-height:normal;font-family:Menlo,'DejaVu Sans Mono',consolas,'Courier New',monospace\">\n",
       "</pre>\n"
      ],
      "text/plain": [
       "\n"
      ]
     },
     "metadata": {},
     "output_type": "display_data"
    },
    {
     "name": "stderr",
     "output_type": "stream",
     "text": [
      "gempy | 2022-10-02 22:14:06,370 | INFO | FVA irr n reactions: 49\n",
      "gempy | 2022-10-02 22:14:06,371 | INFO | Finding optimal reactions...\n",
      "gempy | 2022-10-02 22:14:06,372 | INFO | Found 2 pfba opt reactions.\n",
      "gempy | 2022-10-02 22:14:06,372 | INFO | pfba opt reactions are: ['ATPM', 'min_flux']\n",
      "gempy | 2022-10-02 22:14:06,404 | INFO | Using 1 pfba opt reactions.\n",
      "gempy | 2022-10-02 22:14:06,405 | INFO | Removing 46 reaction classes from model...\n",
      "gempy | 2022-10-02 22:14:06,420 | INFO | MinReact: 47\n"
     ]
    }
   ],
   "source": [
    "minimized = minimize_model(model, maintain = [])"
   ]
  },
  {
   "cell_type": "code",
   "execution_count": 5,
   "id": "9226c14d",
   "metadata": {},
   "outputs": [
    {
     "data": {
      "text/html": [
       "<strong><em>Optimal</em> solution with objective value 0.917</strong><br><div>\n",
       "<style scoped>\n",
       "    .dataframe tbody tr th:only-of-type {\n",
       "        vertical-align: middle;\n",
       "    }\n",
       "\n",
       "    .dataframe tbody tr th {\n",
       "        vertical-align: top;\n",
       "    }\n",
       "\n",
       "    .dataframe thead th {\n",
       "        text-align: right;\n",
       "    }\n",
       "</style>\n",
       "<table border=\"1\" class=\"dataframe\">\n",
       "  <thead>\n",
       "    <tr style=\"text-align: right;\">\n",
       "      <th></th>\n",
       "      <th>fluxes</th>\n",
       "      <th>reduced_costs</th>\n",
       "    </tr>\n",
       "  </thead>\n",
       "  <tbody>\n",
       "    <tr>\n",
       "      <th>PFK</th>\n",
       "      <td>7.158492</td>\n",
       "      <td>1.084202e-18</td>\n",
       "    </tr>\n",
       "    <tr>\n",
       "      <th>PGI</th>\n",
       "      <td>4.022930</td>\n",
       "      <td>0.000000e+00</td>\n",
       "    </tr>\n",
       "    <tr>\n",
       "      <th>PGK</th>\n",
       "      <td>-15.633557</td>\n",
       "      <td>-2.602085e-18</td>\n",
       "    </tr>\n",
       "    <tr>\n",
       "      <th>PGL</th>\n",
       "      <td>5.789157</td>\n",
       "      <td>0.000000e+00</td>\n",
       "    </tr>\n",
       "    <tr>\n",
       "      <th>PGM</th>\n",
       "      <td>-14.262252</td>\n",
       "      <td>-0.000000e+00</td>\n",
       "    </tr>\n",
       "    <tr>\n",
       "      <th>...</th>\n",
       "      <td>...</td>\n",
       "      <td>...</td>\n",
       "    </tr>\n",
       "    <tr>\n",
       "      <th>ACALDt</th>\n",
       "      <td>0.000000</td>\n",
       "      <td>0.000000e+00</td>\n",
       "    </tr>\n",
       "    <tr>\n",
       "      <th>ALCD2x</th>\n",
       "      <td>0.000000</td>\n",
       "      <td>1.273121e-02</td>\n",
       "    </tr>\n",
       "    <tr>\n",
       "      <th>AKGt2r</th>\n",
       "      <td>0.000000</td>\n",
       "      <td>1.222197e-01</td>\n",
       "    </tr>\n",
       "    <tr>\n",
       "      <th>ACALD</th>\n",
       "      <td>0.000000</td>\n",
       "      <td>6.874856e-02</td>\n",
       "    </tr>\n",
       "    <tr>\n",
       "      <th>PFL</th>\n",
       "      <td>0.000000</td>\n",
       "      <td>-1.527746e-02</td>\n",
       "    </tr>\n",
       "  </tbody>\n",
       "</table>\n",
       "<p>95 rows × 2 columns</p>\n",
       "</div>"
      ],
      "text/plain": [
       "<Solution 0.917 at 0x7f2c88c0b010>"
      ]
     },
     "execution_count": 5,
     "metadata": {},
     "output_type": "execute_result"
    }
   ],
   "source": [
    "minimized.optimize()"
   ]
  }
 ],
 "metadata": {
  "kernelspec": {
   "display_name": "Python 3 (ipykernel)",
   "language": "python",
   "name": "python3"
  },
  "language_info": {
   "codemirror_mode": {
    "name": "ipython",
    "version": 3
   },
   "file_extension": ".py",
   "mimetype": "text/x-python",
   "name": "python",
   "nbconvert_exporter": "python",
   "pygments_lexer": "ipython3",
   "version": "3.10.4"
  }
 },
 "nbformat": 4,
 "nbformat_minor": 5
}
